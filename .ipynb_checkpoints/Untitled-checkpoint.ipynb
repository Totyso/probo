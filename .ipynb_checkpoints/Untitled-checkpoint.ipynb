{
 "cells": [
  {
   "cell_type": "code",
   "execution_count": 15,
   "metadata": {},
   "outputs": [
    {
     "name": "stdout",
     "output_type": "stream",
     "text": [
      "The call price via controlVariateAsianCall is: 4.091\n",
      "The standard error via controlVariateAsianCall is: 0.003620\n",
      "The put price via controlVariateAsianCall is: 3.737\n",
      "The standard error via controlVariateAsianCall is: 0.002280\n"
     ]
    }
   ],
   "source": [
    "from probo.marketdata import MarketData\n",
    "from probo.payoff import VanillaPayoff, call_payoff, put_payoff\n",
    "from probo.engine import MonteCarloEngine, controlVariateAsianCall \n",
    "from probo.facade import OptionFacade\n",
    "\n",
    "## Set up the market data\n",
    "spot = 100.0\n",
    "rate = 0.06\n",
    "volatility = 0.20\n",
    "dividend = 0.03\n",
    "thedata = MarketData(rate, spot, volatility, dividend)\n",
    "\n",
    "## Set up the option\n",
    "expiry = 1.0\n",
    "strike = 100.0\n",
    "thecall = VanillaPayoff(expiry, strike, call_payoff)\n",
    "theput = VanillaPayoff(expiry, strike, put_payoff)\n",
    "\n",
    "## Set up controlVariateAsianCall\n",
    "nreps = 10000\n",
    "steps = 10\n",
    "pricer = controlVariateAsianCall\n",
    "mcengine = MonteCarloEngine(nreps, steps, pricer)\n",
    "\n",
    "## Calculate the price\n",
    "option1 = OptionFacade(thecall, mcengine, thedata)\n",
    "price1, se1 = option1.price()\n",
    "print(\"The call price via controlVariateAsianCall is: {0:.3f}\".format(price1))\n",
    "print(\"The standard error via controlVariateAsianCall is: {0:.6f}\".format(se1))\n",
    "\n",
    "option2 = OptionFacade(theput, mcengine, thedata)\n",
    "price2, se2 = option2.price()\n",
    "print(\"The put price via controlVariateAsianCall is: {0:.3f}\".format(price2))\n",
    "print(\"The standard error via controlVariateAsianCall is: {0:.6f}\".format(se2))"
   ]
  },
  {
   "cell_type": "code",
   "execution_count": null,
   "metadata": {},
   "outputs": [],
   "source": []
  },
  {
   "cell_type": "code",
   "execution_count": null,
   "metadata": {},
   "outputs": [],
   "source": []
  }
 ],
 "metadata": {
  "kernelspec": {
   "display_name": "Python 3",
   "language": "python",
   "name": "python3"
  },
  "language_info": {
   "codemirror_mode": {
    "name": "ipython",
    "version": 3
   },
   "file_extension": ".py",
   "mimetype": "text/x-python",
   "name": "python",
   "nbconvert_exporter": "python",
   "pygments_lexer": "ipython3",
   "version": "3.6.5"
  }
 },
 "nbformat": 4,
 "nbformat_minor": 2
}
